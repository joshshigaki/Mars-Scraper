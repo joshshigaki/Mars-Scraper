{
 "cells": [
  {
   "cell_type": "code",
   "execution_count": 1,
   "metadata": {
    "slideshow": {
     "slide_type": "slide"
    }
   },
   "outputs": [],
   "source": [
    "import pandas as pd\n",
    "from splinter import Browser\n",
    "from bs4 import BeautifulSoup as bs"
   ]
  },
  {
   "cell_type": "code",
   "execution_count": 16,
   "metadata": {},
   "outputs": [],
   "source": [
    "#initiate browser\n",
    "\n",
    "executable_path = {\"executable_path\": \"chromedriver.exe\"}\n",
    "browser = Browser(\"chrome\", **executable_path, headless=False)"
   ]
  },
  {
   "cell_type": "code",
   "execution_count": 3,
   "metadata": {},
   "outputs": [],
   "source": [
    "#scraping Mars News for latest headline title and body\n",
    "\n",
    "mars_url = 'https://mars.nasa.gov/news/?page=0&per_page=40&order=publish_date+desc%2Ccreated_at+desc&search=&category=19%2C165%2C184%2C204&blank_scope=Latest'\n",
    "browser.visit(mars_url)\n",
    "\n",
    "xpath_title = '//*[@id=\"page\"]/div[2]/div/article/div/section/div/ul/li[1]/div/div/div[2]/a'\n",
    "xpath_body = '//*[@id=\"page\"]/div[2]/div/article/div/section/div/ul/li[1]/div/div/div[3]'\n",
    "\n",
    "title_results = browser.find_by_xpath(xpath_title)\n",
    "title_link = title_results[0]\n",
    "recent_title = title_link.text\n",
    "\n",
    "body_results = browser.find_by_xpath(xpath_body)\n",
    "body_link = body_results[0]\n",
    "recent_body = body_link.text"
   ]
  },
  {
   "cell_type": "code",
   "execution_count": 4,
   "metadata": {},
   "outputs": [
    {
     "name": "stdout",
     "output_type": "stream",
     "text": [
      "Third ASPIRE Test Confirms Mars 2020 Parachute a Go\n",
      "The supersonic parachute that will handle the heaviest payload yet to the Red Planet – Mars 2020 rover – passes its final sounding rocket test with flying colors.\n"
     ]
    }
   ],
   "source": [
    "#confirm title text and body text\n",
    "print(recent_title)\n",
    "print(recent_body)"
   ]
  },
  {
   "cell_type": "code",
   "execution_count": 5,
   "metadata": {
    "slideshow": {
     "slide_type": "fragment"
    }
   },
   "outputs": [],
   "source": [
    "#crape for JPL Mars Space Images - Featured Image\n",
    "pic_url = 'https://www.jpl.nasa.gov/spaceimages/?search=&category=Mars'\n",
    "nasa_link = 'https://www.jpl.nasa.gov'\n",
    "\n",
    "browser.visit(pic_url)\n",
    "xpath_mars_link = '//*[@id=\"full_image\"]'\n",
    "xpath_mars_pic = '//*[@id=\"fancybox-lock\"]/div/div[1]/img'\n",
    "\n",
    "#store path of link and then click\n",
    "mars_results = browser.find_by_xpath(xpath_mars_link)\n",
    "mars_link = mars_results[0]\n",
    "mars_link.click()"
   ]
  },
  {
   "cell_type": "code",
   "execution_count": 6,
   "metadata": {
    "slideshow": {
     "slide_type": "fragment"
    }
   },
   "outputs": [
    {
     "name": "stdout",
     "output_type": "stream",
     "text": [
      "https://www.jpl.nasa.gov/spaceimages/images/mediumsize/PIA18322_ip.jpg\n"
     ]
    }
   ],
   "source": [
    "#read page with BeautifulSoup to obtain link\n",
    "html = browser.html\n",
    "soup = bs(html, 'html.parser')\n",
    "\n",
    "#retrieve partial link\n",
    "pic_link = soup.find(\"img\", class_=\"fancybox-image\")[\"src\"]\n",
    "\n",
    "#create link\n",
    "mars_pic_link = nasa_link + pic_link\n",
    "print(mars_pic_link)"
   ]
  },
  {
   "cell_type": "code",
   "execution_count": 11,
   "metadata": {},
   "outputs": [],
   "source": [
    "#scrape for Mars Weather information\n",
    "\n",
    "mars_weather_link = 'https://twitter.com/marswxreport?lang=en'\n",
    "\n",
    "browser.visit(mars_weather_link)\n",
    "xpath_mars_weather = '//*[@id=\"stream-item-tweet-1055479145478737921\"]/div[1]/div[2]/div[2]/p'\n",
    "\n",
    "weather_results = browser.find_by_xpath(xpath_mars_weather)\n",
    "weather_body = weather_results[0]\n",
    "mars_weather_body = weather_body.text"
   ]
  },
  {
   "cell_type": "code",
   "execution_count": 12,
   "metadata": {},
   "outputs": [
    {
     "data": {
      "text/plain": [
       "'Sol 2208 (2018-10-22), high -18C/0F, low -75C/-102F, pressure at 8.80 hPa, daylight 06:08-18:26'"
      ]
     },
     "execution_count": 12,
     "metadata": {},
     "output_type": "execute_result"
    }
   ],
   "source": [
    "mars_weather_body"
   ]
  },
  {
   "cell_type": "code",
   "execution_count": 13,
   "metadata": {},
   "outputs": [],
   "source": [
    "#use Pandas to scrape Mars facts\n",
    "\n",
    "mars_facts_url = 'https://space-facts.com/mars/'\n",
    "mars_facts_table = pd.read_html(mars_facts_url)"
   ]
  },
  {
   "cell_type": "code",
   "execution_count": 14,
   "metadata": {},
   "outputs": [
    {
     "data": {
      "text/plain": [
       "[                      0                              1\n",
       " 0  Equatorial Diameter:                       6,792 km\n",
       " 1       Polar Diameter:                       6,752 km\n",
       " 2                 Mass:  6.42 x 10^23 kg (10.7% Earth)\n",
       " 3                Moons:            2 (Phobos & Deimos)\n",
       " 4       Orbit Distance:       227,943,824 km (1.52 AU)\n",
       " 5         Orbit Period:           687 days (1.9 years)\n",
       " 6  Surface Temperature:                  -153 to 20 °C\n",
       " 7         First Record:              2nd millennium BC\n",
       " 8          Recorded By:           Egyptian astronomers]"
      ]
     },
     "execution_count": 14,
     "metadata": {},
     "output_type": "execute_result"
    }
   ],
   "source": [
    "#confirm the table\n",
    "\n",
    "mars_facts_table"
   ]
  },
  {
   "cell_type": "code",
   "execution_count": 15,
   "metadata": {},
   "outputs": [],
   "source": [
    "#convert table into a dataframe\n",
    "mars_facts_df = mars_facts_table[0]\n",
    "\n",
    "#conver table into html\n",
    "mars_facts_df.to_html('mars_facts.html')"
   ]
  },
  {
   "cell_type": "code",
   "execution_count": 3,
   "metadata": {},
   "outputs": [],
   "source": [
    "#scrape for titles and pictures of Mars Hemispheres\n",
    "\n",
    "pic_source = '//*[@id=\"wide-image\"]/div/ul/li[2]/a'\n",
    "mars_high_res_link = 'https://astrogeology.usgs.gov/search/results?q=hemisphere+enhanced&k1=target&v1=Mars'\n",
    "hemisphere_image_urls = []\n",
    "\n",
    "#loop through the 4 links on the webpage\n",
    "for x in range(1, 5):\n",
    "    \n",
    "    #get title of link\n",
    "    browser.visit(mars_high_res_link)\n",
    "    xpath = f'//*[@id=\"product-section\"]/div[2]/div[{x}]/div/a/h3'\n",
    "    results = browser.find_by_xpath(xpath)\n",
    "    hemisphere_image_urls.append({\n",
    "        \"title\": results.text\n",
    "    })\n",
    "    \n",
    "    #get link of picture\n",
    "    browser.visit(mars_high_res_link)\n",
    "    xpath = f'//*[@id=\"product-section\"]/div[2]/div[{x}]/div/a'\n",
    "    results = browser.find_by_xpath(xpath)\n",
    "    results.click()\n",
    "    results = browser.find_by_xpath(pic_source)\n",
    "    hemisphere_image_urls.append({\n",
    "        \"img_url\": results[\"href\"]\n",
    "    })\n",
    "    "
   ]
  },
  {
   "cell_type": "code",
   "execution_count": 7,
   "metadata": {},
   "outputs": [
    {
     "data": {
      "text/plain": [
       "[{'title': 'Cerberus Hemisphere Enhanced'},\n",
       " {'img_url': 'http://astropedia.astrogeology.usgs.gov/download/Mars/Viking/cerberus_enhanced.tif'},\n",
       " {'title': 'Schiaparelli Hemisphere Enhanced'},\n",
       " {'img_url': 'http://astropedia.astrogeology.usgs.gov/download/Mars/Viking/schiaparelli_enhanced.tif'},\n",
       " {'title': 'Syrtis Major Hemisphere Enhanced'},\n",
       " {'img_url': 'http://astropedia.astrogeology.usgs.gov/download/Mars/Viking/syrtis_major_enhanced.tif'},\n",
       " {'title': 'Valles Marineris Hemisphere Enhanced'},\n",
       " {'img_url': 'http://astropedia.astrogeology.usgs.gov/download/Mars/Viking/valles_marineris_enhanced.tif'}]"
      ]
     },
     "execution_count": 7,
     "metadata": {},
     "output_type": "execute_result"
    }
   ],
   "source": [
    "#print dictionary to confirm results\n",
    "hemisphere_image_urls"
   ]
  },
  {
   "cell_type": "code",
   "execution_count": 45,
   "metadata": {},
   "outputs": [],
   "source": [
    "#scrape for titles and pictures of Mars Hemispheres without xpath\n",
    "\n",
    "mars_high_res_link = 'https://astrogeology.usgs.gov/search/results?q=hemisphere+enhanced&k1=target&v1=Mars'\n",
    "base_link = 'https://astrogeology.usgs.gov/'\n",
    "hemisphere_image_urls = []\n",
    "\n",
    "browser.visit(mars_high_res_link)\n",
    "soup = bs(browser.html, 'lxml')\n",
    "hemispheres = soup.find_all(\"div\", class_=\"item\")\n",
    "\n",
    "for hemisphere in hemispheres:\n",
    "    \n",
    "    title = hemisphere.find(\"a\", class_=\"itemLink\").find(\"img\")[\"alt\"]\n",
    "    title_edit = title[:-19]\n",
    "    hemisphere_image_urls.append({\n",
    "        \"title\": title_edit\n",
    "    })\n",
    "    \n",
    "    hemi_link = hemisphere.find(\"a\", class_=\"itemLink\")\n",
    "    image_link = hemi_link[\"href\"]\n",
    "    full_link = f'{base_link}{image_link}'\n",
    "    hemisphere_image_urls.append({\n",
    "        \"img_url\": full_link\n",
    "    })"
   ]
  },
  {
   "cell_type": "code",
   "execution_count": 34,
   "metadata": {},
   "outputs": [],
   "source": [
    "\n",
    "pic_url = 'https://www.jpl.nasa.gov/spaceimages/?search=&category=Mars'\n",
    "nasa_link = 'https://www.jpl.nasa.gov'\n",
    "\n",
    "browser.visit(pic_url)\n",
    "\n",
    "xpath_mars_link = '//*[@id=\"full_image\"]'\n",
    "xpath_mars_pic = '//*[@id=\"fancybox-lock\"]/div/div[1]/img'\n",
    "\n",
    "#store path of link and then click\n",
    "mars_results = browser.find_by_xpath(xpath_mars_link)\n",
    "\n",
    "mars_link = mars_results[0]\n",
    "mars_link.click()\n",
    "\n",
    "#read page with BeautifulSoup to obtain link\n",
    "html = browser.html\n",
    "soup = bs(html, 'html.parser')\n",
    "\n",
    "#retrieve partial link\n",
    "#pic_link = soup.find(\"img\", class_=\"fancybox-image\")[\"src\"]\n",
    "pic_link = browser.find_by_xpath(xpath_mars_pic)\n",
    "\n",
    "\n",
    "#create link\n",
    "mars_pic_link = f'{pic_link[0][\"src\"]}'"
   ]
  },
  {
   "cell_type": "code",
   "execution_count": 35,
   "metadata": {},
   "outputs": [
    {
     "data": {
      "text/plain": [
       "'https://www.jpl.nasa.gov/spaceimages/images/mediumsize/PIA17551_ip.jpg'"
      ]
     },
     "execution_count": 35,
     "metadata": {},
     "output_type": "execute_result"
    }
   ],
   "source": []
  },
  {
   "cell_type": "code",
   "execution_count": null,
   "metadata": {},
   "outputs": [],
   "source": []
  }
 ],
 "metadata": {
  "kernelspec": {
   "display_name": "Python [conda env:PythonData]",
   "language": "python",
   "name": "conda-env-PythonData-py"
  },
  "language_info": {
   "codemirror_mode": {
    "name": "ipython",
    "version": 3
   },
   "file_extension": ".py",
   "mimetype": "text/x-python",
   "name": "python",
   "nbconvert_exporter": "python",
   "pygments_lexer": "ipython3",
   "version": "3.6.5"
  },
  "varInspector": {
   "cols": {
    "lenName": 16,
    "lenType": 16,
    "lenVar": 40
   },
   "kernels_config": {
    "python": {
     "delete_cmd_postfix": "",
     "delete_cmd_prefix": "del ",
     "library": "var_list.py",
     "varRefreshCmd": "print(var_dic_list())"
    },
    "r": {
     "delete_cmd_postfix": ") ",
     "delete_cmd_prefix": "rm(",
     "library": "var_list.r",
     "varRefreshCmd": "cat(var_dic_list()) "
    }
   },
   "types_to_exclude": [
    "module",
    "function",
    "builtin_function_or_method",
    "instance",
    "_Feature"
   ],
   "window_display": false
  }
 },
 "nbformat": 4,
 "nbformat_minor": 2
}
